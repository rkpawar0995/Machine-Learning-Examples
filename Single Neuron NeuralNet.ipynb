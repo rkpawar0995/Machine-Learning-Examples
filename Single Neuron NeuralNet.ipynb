{
 "cells": [
  {
   "cell_type": "markdown",
   "metadata": {},
   "source": [
    "### Single Neuron Neural Network \n",
    "\n",
    "#### Neural Network contains 3x1 weights and Tanh activation functions"
   ]
  },
  {
   "cell_type": "markdown",
   "metadata": {},
   "source": [
    "#### Name : Khushi Devidas Helange\n",
    "#### Roll No. 133 Class. TY-A"
   ]
  },
  {
   "cell_type": "code",
   "execution_count": 1,
   "metadata": {},
   "outputs": [],
   "source": [
    "from numpy import exp, array, random, dot, tanh\n",
    "import numpy as pd"
   ]
  },
  {
   "cell_type": "code",
   "execution_count": 3,
   "metadata": {},
   "outputs": [],
   "source": [
    "class NeuralNetwork():\n",
    "    def __init__(self):\n",
    "        #generate same weight in every run\n",
    "        random.seed(42)\n",
    "        \n",
    "        #3x1 Weight Matrix\n",
    "        self.weight_matrix = 2 * random.random((3,1)) - 1\n",
    "    #tanh is activation function\n",
    "    def tanh(self,x):\n",
    "        return tanh(x)\n",
    "    \n",
    "    def tanh_derivative(self,x):\n",
    "        return 1.0 - tanh(x) ** 2\n",
    "   \n",
    "    def forward_propagation(self,inputs):\n",
    "        return self.tanh(dot(inputs,self.weight_matrix))\n",
    "    \n",
    "    def train(self,train_inputs,train_outputs,num_train_iterations):\n",
    "        \n",
    "        #number of iteration we want\n",
    "        for iteration in range(num_train_iterations):\n",
    "            output = self.forward_propagation(train_inputs)\n",
    "            \n",
    "            error = train_outputs - output\n",
    "            \n",
    "            #gradient adjustment needs to be made in weights\n",
    "            adjustment = dot(train_inputs.T, error * self.tanh_derivative(output))\n",
    "            \n",
    "            self.weight_matrix += adjustment\n",
    "            "
   ]
  },
  {
   "cell_type": "code",
   "execution_count": 5,
   "metadata": {},
   "outputs": [
    {
     "name": "stdout",
     "output_type": "stream",
     "text": [
      "Random Weight at the start of training\n",
      "[[-0.25091976]\n",
      " [ 0.90142861]\n",
      " [ 0.46398788]]\n",
      "New weights after training\n",
      "[[ 5.39403394]\n",
      " [-0.19472168]\n",
      " [-0.34310257]]\n",
      "Testing network on new examples ->\n",
      "[0.99995871]\n"
     ]
    }
   ],
   "source": [
    "if __name__ == \"__main__\":\n",
    "    neural_network = NeuralNetwork()\n",
    "    \n",
    "    print('Random Weight at the start of training')\n",
    "    print(neural_network.weight_matrix)\n",
    "    \n",
    "    train_inputs = array([[0, 0, 1], [1, 1, 1], [1, 0, 1], [0, 1, 1]]) \n",
    "    train_outputs = array([[0, 1, 1, 0]]).T \n",
    "  \n",
    "    neural_network.train(train_inputs, train_outputs, 10000) \n",
    "  \n",
    "    print ('New weights after training') \n",
    "    print (neural_network.weight_matrix) \n",
    "  \n",
    "    # Test the neural network with a new situation. \n",
    "    print (\"Testing network on new examples ->\") \n",
    "    print (neural_network.forward_propagation(array([1, 0, 0]))) "
   ]
  },
  {
   "cell_type": "code",
   "execution_count": null,
   "metadata": {},
   "outputs": [],
   "source": []
  },
  {
   "cell_type": "code",
   "execution_count": null,
   "metadata": {},
   "outputs": [],
   "source": []
  }
 ],
 "metadata": {
  "kernelspec": {
   "display_name": "Python 3",
   "language": "python",
   "name": "python3"
  },
  "language_info": {
   "codemirror_mode": {
    "name": "ipython",
    "version": 3
   },
   "file_extension": ".py",
   "mimetype": "text/x-python",
   "name": "python",
   "nbconvert_exporter": "python",
   "pygments_lexer": "ipython3",
   "version": "3.7.6"
  }
 },
 "nbformat": 4,
 "nbformat_minor": 4
}
